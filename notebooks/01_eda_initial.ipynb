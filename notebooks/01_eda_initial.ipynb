{
 "cells": [
  {
   "cell_type": "code",
   "execution_count": 2,
   "id": "9587e31a",
   "metadata": {},
   "outputs": [],
   "source": [
    "import os\n",
    "import pandas as pd"
   ]
  },
  {
   "cell_type": "markdown",
   "id": "e29f00ad",
   "metadata": {},
   "source": [
    "## Using the variables to get data in dataframes"
   ]
  },
  {
   "cell_type": "code",
   "execution_count": null,
   "id": "83000065",
   "metadata": {},
   "outputs": [],
   "source": [
    "raw_data_path = os.path.abspath('../data/00_raw')"
   ]
  },
  {
   "cell_type": "code",
   "execution_count": null,
   "id": "ba4c4417",
   "metadata": {},
   "outputs": [],
   "source": [
    "cdc_data = pd.read_sas(os.path.join(raw_data_path, 'DEMO_L.xpt'))\n",
    "uci_diabetes_data = pd.read_csv(os.path.join(raw_data_path, 'diabetic_data.csv'))\n",
    "hdhi_admissions = pd.read_csv(os.path.join(raw_data_path, 'HDHI Admission data.csv'))\n",
    "hdhi_mortality = pd.read_csv(os.path.join(raw_data_path, 'HDHI Mortality Data.csv'))\n",
    "hdhi_pollution = pd.read_csv(os.path.join(raw_data_path, 'HDHI Pollution Data.csv'))"
   ]
  },
  {
   "cell_type": "code",
   "execution_count": null,
   "id": "77f957df",
   "metadata": {},
   "outputs": [],
   "source": []
  }
 ],
 "metadata": {
  "kernelspec": {
   "display_name": ".venv",
   "language": "python",
   "name": "python3"
  },
  "language_info": {
   "codemirror_mode": {
    "name": "ipython",
    "version": 3
   },
   "file_extension": ".py",
   "mimetype": "text/x-python",
   "name": "python",
   "nbconvert_exporter": "python",
   "pygments_lexer": "ipython3",
   "version": "3.12.10"
  }
 },
 "nbformat": 4,
 "nbformat_minor": 5
}
